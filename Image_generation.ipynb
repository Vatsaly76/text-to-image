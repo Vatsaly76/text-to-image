{
  "nbformat": 4,
  "nbformat_minor": 0,
  "metadata": {
    "colab": {
      "provenance": [],
      "gpuType": "T4",
      "authorship_tag": "ABX9TyPs9vIBB5AuAO6MDTUEJjno",
      "include_colab_link": true
    },
    "kernelspec": {
      "name": "python3",
      "display_name": "Python 3"
    },
    "language_info": {
      "name": "python"
    },
    "accelerator": "GPU"
  },
  "cells": [
    {
      "cell_type": "markdown",
      "metadata": {
        "id": "view-in-github",
        "colab_type": "text"
      },
      "source": [
        "<a href=\"https://colab.research.google.com/github/Vatsaly76/text-to-image/blob/main/Image_generation.ipynb\" target=\"_parent\"><img src=\"https://colab.research.google.com/assets/colab-badge.svg\" alt=\"Open In Colab\"/></a>"
      ]
    },
    {
      "cell_type": "code",
      "execution_count": null,
      "metadata": {
        "id": "bhAr5XzbhvBf"
      },
      "outputs": [],
      "source": [
        "!pip install diffusers transformers accelerate gradio -q\n",
        "\n",
        "from diffusers import StableDiffusionPipeline\n",
        "import torch\n",
        "import gradio as gr\n",
        "from PIL import Image\n",
        "import uuid\n",
        "import os\n",
        "\n",
        "# Load Stable Diffusion model\n",
        "pipe = StableDiffusionPipeline.from_pretrained(\"CompVis/stable-diffusion-v1-4\")\n",
        "pipe = pipe.to(\"cuda\")\n",
        "\n",
        "# Ensure image output folder exists\n",
        "os.makedirs(\"generated_images\", exist_ok=True)\n",
        "\n",
        "# Image generation function\n",
        "def generate_image(prompt):\n",
        "    image = pipe(prompt).images[0]\n",
        "    filename = f\"generated_images/{uuid.uuid4().hex[:8]}.png\"\n",
        "    image.save(filename)\n",
        "    return image, filename"
      ]
    },
    {
      "cell_type": "code",
      "source": [
        "with gr.Blocks(css=\"\"\"\n",
        ".gradio-container {\n",
        "    background: linear-gradient(135deg, #0f0c29, #302b63, #24243e);\n",
        "    padding: 50px 20px;\n",
        "    min-height: 100vh;\n",
        "}\n",
        "\n",
        "/* --- Targeting the h1 tag directly for reliability --- */\n",
        "#main-title h1 {\n",
        "    text-align: center;\n",
        "    font-size: 2rem;\n",
        "    font-weight: 900;\n",
        "    margin-bottom: 50px;\n",
        "    background: -webkit-linear-gradient(45deg, #ffb347, #ffd700);\n",
        "    -webkit-background-clip: text;\n",
        "    -webkit-text-fill-color: transparent;\n",
        "}\n",
        "\n",
        "#promptbox input {\n",
        "    font-size: 18px;\n",
        "    padding: 12px;\n",
        "    border: 2px solid #c800c8;\n",
        "    border-radius: 10px;\n",
        "}\n",
        "\n",
        "#genbtn button {\n",
        "    background: linear-gradient(45deg, #ff66cc, #cc00ff);\n",
        "    color: white;\n",
        "    font-weight: bold;\n",
        "    font-size: 20px;\n",
        "    padding: 14px 28px;\n",
        "    border: none;\n",
        "    border-radius: 12px;\n",
        "    margin-top: 10px;\n",
        "    transition: transform 0.2s ease, box-shadow 0.2s ease;\n",
        "    box-shadow: 0 4px 12px rgba(0,0,0,0.2);\n",
        "}\n",
        "#genbtn button:hover {\n",
        "    transform: scale(1.05);\n",
        "    box-shadow: 0 6px 18px rgba(0,0,0,0.25);\n",
        "}\n",
        "\"\"\") as demo:\n",
        "\n",
        "    # --- Wrapping the title in an h1 tag ---\n",
        "    gr.Markdown(\"<h1>✨ AI Text-to-Image Generator</h1>\", elem_id=\"main-title\")\n",
        "\n",
        "    prompt = gr.Textbox(placeholder=\"Describe your image...\", label=\"Prompt\", elem_id=\"promptbox\")\n",
        "\n",
        "    btn = gr.Button(\"🎨 Generate Image\", elem_id=\"genbtn\")\n",
        "\n",
        "    image_output = gr.Image(label=\"Output Image\", type=\"pil\")\n",
        "    file_output = gr.File(label=\"Download Image\")\n",
        "\n",
        "    btn.click(fn=run, inputs=prompt, outputs=[image_output, file_output])\n",
        "\n",
        "demo.launch(share=True)"
      ],
      "metadata": {
        "id": "rHggpX15euLE"
      },
      "execution_count": null,
      "outputs": []
    }
  ]
}